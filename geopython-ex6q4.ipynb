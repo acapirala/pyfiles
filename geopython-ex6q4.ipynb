{
 "cells": [
  {
   "cell_type": "markdown",
   "metadata": {},
   "source": [
    "From Geo-Python 2019\n",
    "Exercise 6, optional question 4 \n",
    "https://github.com/geo-python-2019/Exercise-6/blob/c2e4b3966aff47531c6a03583752be0c577cd134/Exercise-6-problem-4.ipynb"
   ]
  },
  {
   "cell_type": "markdown",
   "metadata": {},
   "source": [
    "Problem 4\n",
    "\n",
    "- Retrieve daily summary data from 1959-2018 for Sodankyla Lokka from NOAA Climate Data Online Search\n",
    "- Calculate average temperature using columns TMAX and TMIN\n",
    "- Calculate the temperature anomalies in Sodankyla\n",
    "- Calculate the monthly temperature differences between Sodankyla and Helsinki stations. Compare summer mean temperatures"
   ]
  },
  {
   "cell_type": "code",
   "execution_count": null,
   "metadata": {},
   "outputs": [],
   "source": [
    "import pandas as pd\n",
    "\n",
    "filepath = r\"C:\\Users\\ash c\\Desktop\\python\\1985608.txt\"\n",
    "data = pd.read_csv(filepath, delim_whitespace=True, usecols=[\"STATION\", \"DATE\", \"PRCP\", \"TMAX\", \"TMIN\"], na_values=['*', '**', '***', '****', '*****', '******'], skiprows=[1])"
   ]
  },
  {
   "cell_type": "code",
   "execution_count": null,
   "metadata": {},
   "outputs": [],
   "source": [
    "for idx in data:\n",
    "    data[\"TAVG\"] = (data[\"TMIN\"] + data[\"TMAX\"]) / 2"
   ]
  },
  {
   "cell_type": "code",
   "execution_count": null,
   "metadata": {},
   "outputs": [],
   "source": [
    "def tempconvert(temp):\n",
    "    output_temp = (temp - 32) / 1.8\n",
    "    return output_temp"
   ]
  },
  {
   "cell_type": "code",
   "execution_count": null,
   "metadata": {},
   "outputs": [],
   "source": [
    "data[\"CAVG\"] = data[\"TAVG\"].apply(tempconvert).astype(int64)\n",
    "data[\"TIMESTR\"] = data[\"DATE\"].astype(str)\n",
    "data[\"TIMESTAMP\"] = pd.to_datetime(data[\"TIMESTR\"])\n",
    "data[\"MONTH\"] = data[\"TIMESTAMP\"].dt.month\n",
    "data[\"YEAR\"] = data[\"TIMESTAMP\"].dt.year\n"
   ]
  },
  {
   "cell_type": "code",
   "execution_count": null,
   "metadata": {},
   "outputs": [],
   "source": [
    "select = data.filter([\"CAVG\", \"YEAR\", \"MONTH\"])\n",
    "\n",
    "monthlydata = select.groupby([\"YEAR\",\"MONTH\"])\n",
    "bymonth = select.groupby([\"MONTH\"])"
   ]
  },
  {
   "cell_type": "code",
   "execution_count": null,
   "metadata": {},
   "outputs": [],
   "source": [
    "meancol = [\"CAVG\"]\n",
    "monthlyavg = pd.DataFrame()\n",
    "for key, group in monthlydata:\n",
    "    monthmean = group[meancol].mean()\n",
    "    monthmean[\"YRMO\"] = key\n",
    "    monthlyavg = monthlyavg.append(monthmean, ignore_index=True)"
   ]
  },
  {
   "cell_type": "code",
   "execution_count": null,
   "metadata": {},
   "outputs": [],
   "source": [
    "timestamp = pd.DataFrame(monthlyavg[\"YRMO\"].values.tolist(), columns=[\"YEAR\", \"MONTH\"])\n",
    "monthlyavg[\"YEAR\"] = timestamp[\"YEAR\"]\n",
    "monthlyavg[\"MONTH\"] = timestamp[\"MONTH\"]"
   ]
  },
  {
   "cell_type": "code",
   "execution_count": null,
   "metadata": {},
   "outputs": [],
   "source": [
    "reftemps = pd.DataFrame()\n",
    "for key, group in bymonth:\n",
    "    reftemp = group[meancol].mean()\n",
    "    reftemps = reftemps.append(reftemp, ignore_index=True)\n",
    "    \n",
    "reftemps[\"MONTH\"] = [1, 2, 3, 4, 5, 6, 7, 8, 9 , 10, 11, 12]"
   ]
  },
  {
   "cell_type": "code",
   "execution_count": null,
   "metadata": {},
   "outputs": [],
   "source": [
    "diff = monthlyavg.merge(reftemps, on=\"MONTH\")\n",
    "diff[\"DIFF\"] = diff[\"CAVG_x\"] - diff[\"CAVG_y\"]\n",
    "\n",
    "newcols = {\"CAVG_x\": \"OBS TEMP\", \"CAVG_y\": \"REFTEMP\", \"DIFF\": \"ANOMALY\"}\n",
    "diff = diff.rename(columns=newcols)\n",
    "diff = diff[[\"YEAR\", \"MONTH\", \"OBS TEMP\", \"REFTEMP\", \"ANOMALY\"]]\n",
    "diff = diff.sort_values([\"YEAR\", \"MONTH\"], ascending=True)\n",
    "diff = diff.round(1)"
   ]
  },
  {
   "cell_type": "code",
   "execution_count": null,
   "metadata": {},
   "outputs": [],
   "source": [
    "filepath_hsk = r\"C:\\Users\\ash c\\Desktop\\python\\helsinki.csv\"\n",
    "hsk = pd.read_csv(filepath_hsk, usecols=[\"YEAR\", \"MONTH\", \"TEMP_C\", \"REFTEMP_C\", \"DIFF\"])\n",
    "hsknewcols = {\"TEMP_C\": \"OBS TEMP\", \"REFTEMP_C\": \"REFTEMP\", \"DIFF\": \"ANOMALY\"}\n",
    "hsk = hsk.rename(columns=hsknewcols)"
   ]
  },
  {
   "cell_type": "code",
   "execution_count": null,
   "metadata": {},
   "outputs": [],
   "source": [
    "climate = diff.merge(hsk, on=[\"YEAR\",\"MONTH\"])\n",
    "climate_newcols = {\"OBS TEMP_x\": \"SDK TEMP\", \"REFTEMP_x\": \"SDK REFTEMP\", \"ANOMALY_x\": \"SDK ANOMALY\", \"OBS TEMP_y\": \"HSK TEMP\", \"REFTEMP_y\": \"HSK REFTEMP\", \"ANOMALY_y\": \"HSK ANOMALY\"}\n",
    "climate = climate.rename(columns=climate_newcols)"
   ]
  },
  {
   "cell_type": "code",
   "execution_count": null,
   "metadata": {},
   "outputs": [],
   "source": [
    "for idx in climate:\n",
    "    climate[\"DIFFERENCE\"] = (climate[\"SDK TEMP\"] - climate[\"HSK TEMP\"])\n",
    "    \n",
    "climate[\"DIFFERENCE\"] = climate[\"DIFFERENCE\"].abs()"
   ]
  },
  {
   "cell_type": "code",
   "execution_count": null,
   "metadata": {},
   "outputs": [],
   "source": [
    "climate.to_csv(\"hsk_sdk.csv\", sep=',', index=False, float_format=\"%.1f\") "
   ]
  }
 ],
 "metadata": {
  "kernelspec": {
   "display_name": "Python 3",
   "language": "python",
   "name": "python3"
  },
  "language_info": {
   "codemirror_mode": {
    "name": "ipython",
    "version": 3
   },
   "file_extension": ".py",
   "mimetype": "text/x-python",
   "name": "python",
   "nbconvert_exporter": "python",
   "pygments_lexer": "ipython3",
   "version": "3.7.3"
  }
 },
 "nbformat": 4,
 "nbformat_minor": 2
}
