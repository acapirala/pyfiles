{
 "cells": [
  {
   "cell_type": "markdown",
   "metadata": {},
   "source": [
    "From Geo-Python 2019\n",
    "Exercise 6 https://github.com/geo-python-2019/Exercise-6/blob/master/Exercise-6-problems-1-3.ipynb"
   ]
  },
  {
   "cell_type": "markdown",
   "metadata": {},
   "source": [
    "Question 1\n",
    "\n",
    "Read the data file into a variable called data\n"
   ]
  },
  {
   "cell_type": "code",
   "execution_count": null,
   "metadata": {},
   "outputs": [],
   "source": [
    "import pandas as pd\n",
    "import numpy as np\n",
    "\n",
    "filepath = r\"C:\\Users\\ash c\\Desktop\\python\\1091402.txt\"\n",
    "data = pd.read_csv(filepath, delim_whitespace=True, na_values='-9999', usecols=[\"STATION\", \"ELEVATION\", \"LATITUDE\", \"LONGITUDE\",\"DATE\",\"PRCP\",\"TAVG\",\"TMAX\",\"TMIN\"], skiprows=[1])"
   ]
  },
  {
   "cell_type": "markdown",
   "metadata": {},
   "source": [
    "Calculate how many no-data values there are for the TAVG and TMIN columns"
   ]
  },
  {
   "cell_type": "code",
   "execution_count": null,
   "metadata": {},
   "outputs": [],
   "source": [
    "#prints the number of no-data values in the TAVG column\n",
    "tavg_nodata_ct = len(data['TAVG']) - len(data['TAVG'].dropna())\n",
    "print(tavg_nodata_ct)"
   ]
  },
  {
   "cell_type": "code",
   "execution_count": null,
   "metadata": {},
   "outputs": [],
   "source": [
    "#prints the number of no-data values in the TMIN column\n",
    "tmin_nodata_ct = len(data['TMIN']) - len(data['TMIN'].dropna())\n",
    "print(tmin_nodata_ct)"
   ]
  },
  {
   "cell_type": "markdown",
   "metadata": {},
   "source": [
    "Calculate the total number of days covered by this data file\n",
    "Find the date of the first observation"
   ]
  },
  {
   "cell_type": "code",
   "execution_count": null,
   "metadata": {},
   "outputs": [],
   "source": [
    "#prints the total number of days\n",
    "dayct = len(data[\"DATE\"])\n",
    "print(dayct)"
   ]
  },
  {
   "cell_type": "code",
   "execution_count": null,
   "metadata": {},
   "outputs": [],
   "source": [
    "#prints date of first observation\n",
    "first_obs = data[\"DATE\"].at[1]\n",
    "print(first_obs)"
   ]
  },
  {
   "cell_type": "markdown",
   "metadata": {},
   "source": [
    "Find the average T for the whole data file from column TAVG\n"
   ]
  },
  {
   "cell_type": "code",
   "execution_count": null,
   "metadata": {},
   "outputs": [],
   "source": [
    "#prints average temperature for the entire time period\n",
    "avg_temp = data[\"TAVG\"].mean()\n",
    "print(avg_temp)"
   ]
  },
  {
   "cell_type": "markdown",
   "metadata": {},
   "source": [
    "Find the average TMAX temperature over the summer of 1969 (May, June July, August)"
   ]
  },
  {
   "cell_type": "code",
   "execution_count": null,
   "metadata": {},
   "outputs": [],
   "source": [
    "#creates a column each for the time as a string and datetime\n",
    "data[\"TIMESTR\"] = data[\"DATE\"].astype(str)\n",
    "data[\"YRMODA\"] = pd.to_datetime(data[\"TIMESTR\"])\n",
    "data[\"YEAR\"] = data[\"YRMODA\"].dt.year\n",
    "data[\"MONTH\"] = data[\"YRMODA\"].dt.month\n",
    "\n",
    "grouped = data.groupby([\"YEAR\", \"MONTH\"])\n",
    "\n",
    "#specify key of wanted months\n",
    "sgroup = [(1969, 5), (1969, 6), (1969, 7), (1969, 8)] \n",
    "\n",
    "#create empty array\n",
    "mean = [] \n",
    "#start for loop to calculate mean of group\n",
    "for key, group in grouped: \n",
    "    if key in sgroup:\n",
    "        #use getgroup to select each group in the list of keys\n",
    "        groups = grouped.get_group(key)\n",
    "        #add the calculated mean of the group to the empty mean array\n",
    "        mean.append(groups[\"TMAX\"].mean())\n",
    "\n",
    "#prints the mean of the mean monthly temperatures\n",
    "print(np.mean(mean))\n",
    "print(grouped.groups.keys())"
   ]
  },
  {
   "cell_type": "markdown",
   "metadata": {},
   "source": [
    "Problem 2\n",
    "\n",
    "Calculate monthly average temperatures in degrees Celsius from the daily values in the data file. "
   ]
  },
  {
   "cell_type": "code",
   "execution_count": null,
   "metadata": {},
   "outputs": [],
   "source": [
    "#runs function to convert the temperatures from F to C\n",
    "def tempconvert(temp):\n",
    "    output_temp = (temp - 32) / 1.8\n",
    "    return output_temp"
   ]
  },
  {
   "cell_type": "code",
   "execution_count": null,
   "metadata": {},
   "outputs": [],
   "source": [
    "#calculate monthly avg temps\n",
    "select = data.filter([\"TAVG\", \"YEAR\", \"MONTH\"])\n",
    "#use double bracket to create without copy\n",
    "    #interior brackets are for list and outer are for indexing operator\n",
    "    #single bracket for series and double bracket for dataframe\n",
    "#use filter to create a copy\n",
    "newcol = {'TAVG': 'F'}\n",
    "select = select.rename(columns=newcol)\n",
    "select[\"C\"] = select[\"F\"].apply(tempconvert)\n",
    "monthlydata = select.groupby([\"YEAR\",\"MONTH\"])\n",
    "\n",
    "meancols = [\"F\", \"C\"]\n",
    "\n",
    "monthlyavg = pd.DataFrame()\n",
    "for key, group in monthlydata:\n",
    "    #finds the mean for each group in the columns F and C\n",
    "    meanvals = group[meancols].mean() \n",
    "    meanvals[\"YRMO\"] = key\n",
    "    monthlyavg = monthlyavg.append(meanvals, ignore_index=True)\n",
    "    \n",
    "time = pd.DatmaFrame(monthlyavg[\"YRMO\"].values.tolist(), columns=[\"YEAR\",\"MONTH\"])\n",
    "monthlyavg[\"YEAR\"] = time[\"YEAR\"]\n",
    "monthlyavg[\"MONTH\"] = time[\"MONTH\"]"
   ]
  },
  {
   "cell_type": "markdown",
   "metadata": {},
   "source": [
    "Problem 3\n",
    "\n",
    "Calculate monthly temperature anomalies:\n",
    "- Calculate a mean temperature for each month over the period from 1952 to 1980\n",
    "- Calculate a temperature anomaly for every month "
   ]
  },
  {
   "cell_type": "code",
   "execution_count": null,
   "metadata": {},
   "outputs": [],
   "source": [
    "datarange = select.loc[(select[\"YEAR\"] >= 1952) & (select[\"YEAR\"] <= 1980)]\n",
    "rangegroup = datarange.groupby([\"MONTH\"])\n",
    "\n",
    "reftemps = pd.DataFrame()\n",
    "for key, group in rangegroup:\n",
    "    meanvals = group[meancols].mean()\n",
    "    reftemps = reftemps.append(meanvals, ignore_index=True)\n",
    "    \n",
    "reftemps[\"MONTH\"] = [1, 2, 3, 4, 5, 6, 7, 8, 9, 10, 11, 12]\n",
    "reftemps = reftemps[[\"MONTH\", \"C\", \"F\"]]\n",
    "print(reftemps)"
   ]
  },
  {
   "cell_type": "code",
   "execution_count": null,
   "metadata": {},
   "outputs": [],
   "source": [
    "diff = monthlyavg.merge(reftemps, on=\"MONTH\")\n",
    "diff[\"DIFF\"] = diff[\"C_x\"] - diff[\"C_y\"] \n",
    "\n",
    "newwcols = {\"C_x\": \"TEMP_C\", \"F_x\": \"TEMP_F\", \"C_y\": \"REFTEMP_C\", \"F_y\": \"REFTEMP_F\"}\n",
    "diff = diff.rename(columns=newwcols)\n",
    "\n",
    "diff.to_csv(\"helsinki.csv\", sep=',', index=False, float_format=\"%.1f\") "
   ]
  }
 ],
 "metadata": {
  "kernelspec": {
   "display_name": "Python 3",
   "language": "python",
   "name": "python3"
  },
  "language_info": {
   "codemirror_mode": {
    "name": "ipython",
    "version": 3
   },
   "file_extension": ".py",
   "mimetype": "text/x-python",
   "name": "python",
   "nbconvert_exporter": "python",
   "pygments_lexer": "ipython3",
   "version": "3.7.3"
  }
 },
 "nbformat": 4,
 "nbformat_minor": 2
}
